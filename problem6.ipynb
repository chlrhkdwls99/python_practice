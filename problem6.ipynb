{
 "cells": [
  {
   "cell_type": "code",
   "execution_count": 2,
   "id": "9230a20e-d69f-4186-9e7c-dddc92b619f4",
   "metadata": {},
   "outputs": [],
   "source": [
    "doubler = lambda x: x * 2"
   ]
  },
  {
   "cell_type": "code",
   "execution_count": 4,
   "id": "ccd5b8f7-393b-45dc-9336-0fdb27b3432b",
   "metadata": {},
   "outputs": [],
   "source": [
    "tripler = lambda x: x * 3"
   ]
  },
  {
   "cell_type": "code",
   "execution_count": 6,
   "id": "7b8d6568-3d38-481e-8661-4c9d2a363eb5",
   "metadata": {},
   "outputs": [
    {
     "data": {
      "text/plain": [
       "10"
      ]
     },
     "execution_count": 6,
     "metadata": {},
     "output_type": "execute_result"
    }
   ],
   "source": [
    "doubler(5)"
   ]
  },
  {
   "cell_type": "code",
   "execution_count": 8,
   "id": "eaf98afc-0b6f-431a-8868-d0d1550e8469",
   "metadata": {},
   "outputs": [
    {
     "data": {
      "text/plain": [
       "15"
      ]
     },
     "execution_count": 8,
     "metadata": {},
     "output_type": "execute_result"
    }
   ],
   "source": [
    "tripler(5)"
   ]
  },
  {
   "cell_type": "code",
   "execution_count": null,
   "id": "1b835590-3d30-4e27-81b3-bbdcb2235d00",
   "metadata": {},
   "outputs": [],
   "source": []
  }
 ],
 "metadata": {
  "kernelspec": {
   "display_name": "Python 3 (ipykernel)",
   "language": "python",
   "name": "python3"
  },
  "language_info": {
   "codemirror_mode": {
    "name": "ipython",
    "version": 3
   },
   "file_extension": ".py",
   "mimetype": "text/x-python",
   "name": "python",
   "nbconvert_exporter": "python",
   "pygments_lexer": "ipython3",
   "version": "3.12.7"
  }
 },
 "nbformat": 4,
 "nbformat_minor": 5
}
