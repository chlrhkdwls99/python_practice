{
 "cells": [
  {
   "cell_type": "code",
   "execution_count": 4,
   "id": "2b0504dc-12ba-4ced-b529-ba33b09ebb01",
   "metadata": {},
   "outputs": [],
   "source": [
    "import random"
   ]
  },
  {
   "cell_type": "code",
   "execution_count": 6,
   "id": "2d3302e8-e921-45b3-b61e-723faef5302b",
   "metadata": {},
   "outputs": [],
   "source": [
    "numlist = range(1, 101)"
   ]
  },
  {
   "cell_type": "code",
   "execution_count": 8,
   "id": "3f846fdf-14a5-482f-8ae5-9d9472dabb17",
   "metadata": {},
   "outputs": [],
   "source": [
    "s = random.sample(numlist, 50)"
   ]
  },
  {
   "cell_type": "code",
   "execution_count": 10,
   "id": "bb444054-c383-4938-bc1b-f7103193badc",
   "metadata": {},
   "outputs": [
    {
     "name": "stdout",
     "output_type": "stream",
     "text": [
      "[73, 49, 71, 23, 3, 56, 55, 72, 81, 20, 94, 54, 7, 85, 97, 29, 90, 67, 79, 48, 62, 35, 46, 60, 42, 58, 96, 95, 86, 69, 78, 2, 77, 15, 9, 12, 33, 19, 44, 75, 83, 26, 100, 4, 64, 76, 28, 65, 61, 82]\n"
     ]
    }
   ],
   "source": [
    "print(s)"
   ]
  },
  {
   "cell_type": "code",
   "execution_count": 12,
   "id": "8d78b381-463c-49eb-8edc-40c61d5ca6d4",
   "metadata": {},
   "outputs": [],
   "source": [
    "s.sort()"
   ]
  },
  {
   "cell_type": "code",
   "execution_count": 14,
   "id": "f79dc7dc-5fc0-4d06-89c6-775f3d956d7d",
   "metadata": {},
   "outputs": [
    {
     "name": "stdout",
     "output_type": "stream",
     "text": [
      "[2, 3, 4, 7, 9, 12, 15, 19, 20, 23, 26, 28, 29, 33, 35, 42, 44, 46, 48, 49, 54, 55, 56, 58, 60, 61, 62, 64, 65, 67, 69, 71, 72, 73, 75, 76, 77, 78, 79, 81, 82, 83, 85, 86, 90, 94, 95, 96, 97, 100]\n"
     ]
    }
   ],
   "source": [
    "print(s)"
   ]
  },
  {
   "cell_type": "code",
   "execution_count": null,
   "id": "badad508-d1a3-4989-92b3-b5d02738a1a8",
   "metadata": {},
   "outputs": [],
   "source": []
  }
 ],
 "metadata": {
  "kernelspec": {
   "display_name": "Python 3 (ipykernel)",
   "language": "python",
   "name": "python3"
  },
  "language_info": {
   "codemirror_mode": {
    "name": "ipython",
    "version": 3
   },
   "file_extension": ".py",
   "mimetype": "text/x-python",
   "name": "python",
   "nbconvert_exporter": "python",
   "pygments_lexer": "ipython3",
   "version": "3.12.7"
  }
 },
 "nbformat": 4,
 "nbformat_minor": 5
}
