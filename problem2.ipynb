{
 "cells": [
  {
   "cell_type": "code",
   "execution_count": 1,
   "id": "e0b67668-47b9-42db-8cf3-6644f064249e",
   "metadata": {},
   "outputs": [
    {
     "name": "stdin",
     "output_type": "stream",
     "text": [
      "입력:  3\n"
     ]
    }
   ],
   "source": [
    "num = int(input(\"입력: \"))"
   ]
  },
  {
   "cell_type": "code",
   "execution_count": 13,
   "id": "3352c9ed-ad22-407e-916b-aa67c1888e7d",
   "metadata": {},
   "outputs": [
    {
     "name": "stdout",
     "output_type": "stream",
     "text": [
      "출력:\n",
      "1 1\n",
      "2 8\n",
      "3 27\n"
     ]
    }
   ],
   "source": [
    "print(\"출력:\")\n",
    "for i in range (1, num + 1):\n",
    "    print(i, i ** 3)"
   ]
  },
  {
   "cell_type": "code",
   "execution_count": null,
   "id": "f46b2538-490d-4f27-a16f-6cb6c57d945e",
   "metadata": {},
   "outputs": [],
   "source": []
  }
 ],
 "metadata": {
  "kernelspec": {
   "display_name": "Python 3 (ipykernel)",
   "language": "python",
   "name": "python3"
  },
  "language_info": {
   "codemirror_mode": {
    "name": "ipython",
    "version": 3
   },
   "file_extension": ".py",
   "mimetype": "text/x-python",
   "name": "python",
   "nbconvert_exporter": "python",
   "pygments_lexer": "ipython3",
   "version": "3.12.7"
  }
 },
 "nbformat": 4,
 "nbformat_minor": 5
}
