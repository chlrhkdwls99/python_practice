{
 "cells": [
  {
   "cell_type": "code",
   "execution_count": 1,
   "id": "f29e39ca-0e72-455e-91e5-de95a1b98c9d",
   "metadata": {},
   "outputs": [],
   "source": [
    "target = [1,2,3,4,5]"
   ]
  },
  {
   "cell_type": "code",
   "execution_count": 5,
   "id": "047eb84f-3ec2-4af9-9d12-57398e726176",
   "metadata": {},
   "outputs": [],
   "source": [
    "str_target = list(map(lambda x: str(x), target))"
   ]
  },
  {
   "cell_type": "code",
   "execution_count": 7,
   "id": "3a240e44-d03e-443d-8f97-ee3a198caffd",
   "metadata": {},
   "outputs": [
    {
     "name": "stdout",
     "output_type": "stream",
     "text": [
      "['1', '2', '3', '4', '5']\n"
     ]
    }
   ],
   "source": [
    "print(str_target)"
   ]
  },
  {
   "cell_type": "code",
   "execution_count": null,
   "id": "32717254-0b60-49a5-9482-27a34637d90c",
   "metadata": {},
   "outputs": [],
   "source": []
  }
 ],
 "metadata": {
  "kernelspec": {
   "display_name": "Python 3 (ipykernel)",
   "language": "python",
   "name": "python3"
  },
  "language_info": {
   "codemirror_mode": {
    "name": "ipython",
    "version": 3
   },
   "file_extension": ".py",
   "mimetype": "text/x-python",
   "name": "python",
   "nbconvert_exporter": "python",
   "pygments_lexer": "ipython3",
   "version": "3.12.7"
  }
 },
 "nbformat": 4,
 "nbformat_minor": 5
}
