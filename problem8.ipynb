{
 "cells": [
  {
   "cell_type": "code",
   "execution_count": 6,
   "id": "ddb8fa48-fe67-4611-8a11-77f5ded34183",
   "metadata": {},
   "outputs": [],
   "source": [
    "current_speed = 120\n",
    "speed_limit = 50"
   ]
  },
  {
   "cell_type": "code",
   "execution_count": 10,
   "id": "4b672a22-5686-40cb-b2be-85588f49b514",
   "metadata": {},
   "outputs": [
    {
     "name": "stdout",
     "output_type": "stream",
     "text": [
      "과속입니다\n"
     ]
    }
   ],
   "source": [
    "if(current_speed > speed_limit):\n",
    "    print(\"과속입니다\")\n",
    "else:\n",
    "    print(\"정상 속도입니다. 안전운행 하세요.\")"
   ]
  },
  {
   "cell_type": "code",
   "execution_count": null,
   "id": "918162b5-1011-459f-8c83-09a94aee7722",
   "metadata": {},
   "outputs": [],
   "source": []
  }
 ],
 "metadata": {
  "kernelspec": {
   "display_name": "Python 3 (ipykernel)",
   "language": "python",
   "name": "python3"
  },
  "language_info": {
   "codemirror_mode": {
    "name": "ipython",
    "version": 3
   },
   "file_extension": ".py",
   "mimetype": "text/x-python",
   "name": "python",
   "nbconvert_exporter": "python",
   "pygments_lexer": "ipython3",
   "version": "3.12.7"
  }
 },
 "nbformat": 4,
 "nbformat_minor": 5
}
