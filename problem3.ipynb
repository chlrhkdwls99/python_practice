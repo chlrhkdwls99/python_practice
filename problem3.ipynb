{
 "cells": [
  {
   "cell_type": "code",
   "execution_count": 24,
   "id": "695c4724-9c27-4f42-b791-37b4594234d3",
   "metadata": {},
   "outputs": [],
   "source": [
    "answer = \"\""
   ]
  },
  {
   "cell_type": "code",
   "execution_count": 26,
   "id": "f2f4e986-47a0-4954-967c-4b63ae374b4f",
   "metadata": {},
   "outputs": [
    {
     "name": "stdout",
     "output_type": "stream",
     "text": [
      "입력: \n"
     ]
    },
    {
     "name": "stdin",
     "output_type": "stream",
     "text": [
      " hello\n",
      " world\n",
      " \n"
     ]
    }
   ],
   "source": [
    "print(\"입력: \")\n",
    "while True:\n",
    "    input_str = input()\n",
    "    if(input_str == \"\"):\n",
    "        break;\n",
    "    answer += input_str;"
   ]
  },
  {
   "cell_type": "code",
   "execution_count": 30,
   "id": "dc08071b-af28-432b-961a-20542c01abba",
   "metadata": {},
   "outputs": [
    {
     "name": "stdout",
     "output_type": "stream",
     "text": [
      "출력:\n",
      "helloworld\n"
     ]
    }
   ],
   "source": [
    "print(\"출력:\")\n",
    "print(answer)"
   ]
  },
  {
   "cell_type": "code",
   "execution_count": null,
   "id": "934e7b3d-664e-478b-b2b0-7a19e5e1bcce",
   "metadata": {},
   "outputs": [],
   "source": []
  }
 ],
 "metadata": {
  "kernelspec": {
   "display_name": "Python 3 (ipykernel)",
   "language": "python",
   "name": "python3"
  },
  "language_info": {
   "codemirror_mode": {
    "name": "ipython",
    "version": 3
   },
   "file_extension": ".py",
   "mimetype": "text/x-python",
   "name": "python",
   "nbconvert_exporter": "python",
   "pygments_lexer": "ipython3",
   "version": "3.12.7"
  }
 },
 "nbformat": 4,
 "nbformat_minor": 5
}
