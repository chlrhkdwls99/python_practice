{
 "cells": [
  {
   "cell_type": "code",
   "execution_count": 45,
   "id": "fa5b6d0b-3a16-4d6c-a635-49d7a4bb51f0",
   "metadata": {},
   "outputs": [
    {
     "name": "stdout",
     "output_type": "stream",
     "text": [
      "입력: \n"
     ]
    },
    {
     "name": "stdin",
     "output_type": "stream",
     "text": [
      " 30 60\n"
     ]
    }
   ],
   "source": [
    "print(\"입력: \")\n",
    "min_humidity, max_humidity = map(int, input().split(\" \"))"
   ]
  },
  {
   "cell_type": "code",
   "execution_count": 47,
   "id": "a1482c40-46c5-4378-91df-e1e2d1a64d6a",
   "metadata": {},
   "outputs": [
    {
     "name": "stdin",
     "output_type": "stream",
     "text": [
      " 45 30 60 25 50 -999\n"
     ]
    }
   ],
   "source": [
    "input_value = input()"
   ]
  },
  {
   "cell_type": "code",
   "execution_count": 49,
   "id": "67b52e92-4e6f-4b27-8448-ed07196570de",
   "metadata": {},
   "outputs": [],
   "source": [
    "humidity = list(map(int, input_value.split()))"
   ]
  },
  {
   "cell_type": "code",
   "execution_count": 51,
   "id": "4f6e0fd7-38ea-47eb-89b5-a93f25e1ba6e",
   "metadata": {},
   "outputs": [
    {
     "name": "stdout",
     "output_type": "stream",
     "text": [
      "출력: \n",
      "Humidity OK\n",
      "Humidity OK\n",
      "Humidity OK\n",
      "Warning!\n"
     ]
    }
   ],
   "source": [
    "print(\"출력: \")\n",
    "for i in humidity:\n",
    "    if(min_humidity <= i <= max_humidity):\n",
    "        print(\"Humidity OK\")\n",
    "    else:\n",
    "        print(\"Warning!\")\n",
    "        break"
   ]
  },
  {
   "cell_type": "code",
   "execution_count": null,
   "id": "b3249d43-ef61-4ad8-a98c-c64b3f12f7a9",
   "metadata": {},
   "outputs": [],
   "source": []
  }
 ],
 "metadata": {
  "kernelspec": {
   "display_name": "Python 3 (ipykernel)",
   "language": "python",
   "name": "python3"
  },
  "language_info": {
   "codemirror_mode": {
    "name": "ipython",
    "version": 3
   },
   "file_extension": ".py",
   "mimetype": "text/x-python",
   "name": "python",
   "nbconvert_exporter": "python",
   "pygments_lexer": "ipython3",
   "version": "3.12.7"
  }
 },
 "nbformat": 4,
 "nbformat_minor": 5
}
