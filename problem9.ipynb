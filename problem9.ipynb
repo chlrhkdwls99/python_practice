{
 "cells": [
  {
   "cell_type": "code",
   "execution_count": 2,
   "id": "3791b9a9-ea6f-4971-aeba-03f2f8833c6f",
   "metadata": {},
   "outputs": [
    {
     "name": "stdin",
     "output_type": "stream",
     "text": [
      " 5\n"
     ]
    }
   ],
   "source": [
    "distance = int(input())"
   ]
  },
  {
   "cell_type": "code",
   "execution_count": 4,
   "id": "02c5c44b-5b4f-4b01-9c31-105a6a9fc042",
   "metadata": {},
   "outputs": [
    {
     "name": "stdout",
     "output_type": "stream",
     "text": [
      "버스타세요.\n",
      "수고하셨습니다.\n"
     ]
    }
   ],
   "source": [
    "if distance <= 3:\n",
    "    print(\"걸어가세요.\")\n",
    "elif 3 < distance < 10:\n",
    "    print(\"버스타세요.\")\n",
    "else:\n",
    "    print(\"택시타세요.\")\n",
    "print(\"수고하셨습니다.\")"
   ]
  },
  {
   "cell_type": "code",
   "execution_count": null,
   "id": "6a03acd6-f014-4e84-978c-ec414406db92",
   "metadata": {},
   "outputs": [],
   "source": []
  }
 ],
 "metadata": {
  "kernelspec": {
   "display_name": "Python 3 (ipykernel)",
   "language": "python",
   "name": "python3"
  },
  "language_info": {
   "codemirror_mode": {
    "name": "ipython",
    "version": 3
   },
   "file_extension": ".py",
   "mimetype": "text/x-python",
   "name": "python",
   "nbconvert_exporter": "python",
   "pygments_lexer": "ipython3",
   "version": "3.12.7"
  }
 },
 "nbformat": 4,
 "nbformat_minor": 5
}
