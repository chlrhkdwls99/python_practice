{
 "cells": [
  {
   "cell_type": "code",
   "execution_count": 4,
   "id": "84e5b69b-1662-4f1a-a147-e86c8241640d",
   "metadata": {},
   "outputs": [],
   "source": [
    "def repeat_n_times(x, n):\n",
    "    return x * n"
   ]
  },
  {
   "cell_type": "code",
   "execution_count": 6,
   "id": "44f4478e-e056-4976-9a92-180352ce641f",
   "metadata": {},
   "outputs": [
    {
     "data": {
      "text/plain": [
       "12"
      ]
     },
     "execution_count": 6,
     "metadata": {},
     "output_type": "execute_result"
    }
   ],
   "source": [
    "repeat_n_times(3,4)"
   ]
  },
  {
   "cell_type": "code",
   "execution_count": 8,
   "id": "4c9b1c55-bd04-4455-b4ad-ec9ed43dd7a3",
   "metadata": {},
   "outputs": [
    {
     "data": {
      "text/plain": [
       "'aaaaa'"
      ]
     },
     "execution_count": 8,
     "metadata": {},
     "output_type": "execute_result"
    }
   ],
   "source": [
    "repeat_n_times('a', 5)"
   ]
  },
  {
   "cell_type": "code",
   "execution_count": null,
   "id": "794d2599-f32b-4cea-aacb-af10af3078c7",
   "metadata": {},
   "outputs": [],
   "source": []
  }
 ],
 "metadata": {
  "kernelspec": {
   "display_name": "Python 3 (ipykernel)",
   "language": "python",
   "name": "python3"
  },
  "language_info": {
   "codemirror_mode": {
    "name": "ipython",
    "version": 3
   },
   "file_extension": ".py",
   "mimetype": "text/x-python",
   "name": "python",
   "nbconvert_exporter": "python",
   "pygments_lexer": "ipython3",
   "version": "3.12.7"
  }
 },
 "nbformat": 4,
 "nbformat_minor": 5
}
