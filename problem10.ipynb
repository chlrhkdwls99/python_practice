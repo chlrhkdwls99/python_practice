{
 "cells": [
  {
   "cell_type": "code",
   "execution_count": 2,
   "id": "0a55074c-427d-4484-881c-77c838e19fe0",
   "metadata": {},
   "outputs": [],
   "source": [
    "my_list = []"
   ]
  },
  {
   "cell_type": "code",
   "execution_count": 4,
   "id": "0b04caa3-0dd7-44c5-a4ce-0c1fa448be31",
   "metadata": {},
   "outputs": [],
   "source": [
    "my_list.append(['삼성전자', '삼성생명', '삼성화재'])\n",
    "my_list.append(['LG전자', 'LG화학'])\n",
    "my_list.append(['셀트리온'])"
   ]
  },
  {
   "cell_type": "code",
   "execution_count": 6,
   "id": "1eac7121-fd12-4f88-b72a-8769819c82a1",
   "metadata": {},
   "outputs": [
    {
     "name": "stdout",
     "output_type": "stream",
     "text": [
      "[['삼성전자', '삼성생명', '삼성화재'], ['LG전자', 'LG화학'], ['셀트리온']]\n"
     ]
    }
   ],
   "source": [
    "print(my_list)"
   ]
  },
  {
   "cell_type": "code",
   "execution_count": 8,
   "id": "959e1f72-044b-4e6b-b303-70ef366065af",
   "metadata": {},
   "outputs": [],
   "source": [
    "my_list[2].append('종근당')"
   ]
  },
  {
   "cell_type": "code",
   "execution_count": 10,
   "id": "397ab0b7-dbc2-48e5-ac20-08147c4a94c0",
   "metadata": {},
   "outputs": [
    {
     "name": "stdout",
     "output_type": "stream",
     "text": [
      "[['삼성전자', '삼성생명', '삼성화재'], ['LG전자', 'LG화학'], ['셀트리온', '종근당']]\n"
     ]
    }
   ],
   "source": [
    "print(my_list)"
   ]
  },
  {
   "cell_type": "code",
   "execution_count": 12,
   "id": "0de0899f-e4ad-4184-b0ba-603630a3619e",
   "metadata": {},
   "outputs": [],
   "source": [
    "del my_list"
   ]
  },
  {
   "cell_type": "code",
   "execution_count": null,
   "id": "ec45cb93-0608-41fe-9880-0443bde5dcc9",
   "metadata": {},
   "outputs": [],
   "source": []
  }
 ],
 "metadata": {
  "kernelspec": {
   "display_name": "Python 3 (ipykernel)",
   "language": "python",
   "name": "python3"
  },
  "language_info": {
   "codemirror_mode": {
    "name": "ipython",
    "version": 3
   },
   "file_extension": ".py",
   "mimetype": "text/x-python",
   "name": "python",
   "nbconvert_exporter": "python",
   "pygments_lexer": "ipython3",
   "version": "3.12.7"
  }
 },
 "nbformat": 4,
 "nbformat_minor": 5
}
