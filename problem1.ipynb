{
 "cells": [
  {
   "cell_type": "code",
   "execution_count": 88,
   "id": "d3d88844-3dc1-445e-8f32-fcd41fa57da5",
   "metadata": {},
   "outputs": [
    {
     "name": "stdin",
     "output_type": "stream",
     "text": [
      "입력 :  hello\n"
     ]
    }
   ],
   "source": [
    "input_value = input(\"입력 : \")"
   ]
  },
  {
   "cell_type": "code",
   "execution_count": 90,
   "id": "33f4a86e-5bf9-4ec4-9d62-2ba07fd25109",
   "metadata": {},
   "outputs": [],
   "source": [
    "value_len = len(input_value)"
   ]
  },
  {
   "cell_type": "code",
   "execution_count": 92,
   "id": "8e41c974-830b-4664-a460-22a16d68cca1",
   "metadata": {},
   "outputs": [],
   "source": [
    "upper_value = input_value.upper()"
   ]
  },
  {
   "cell_type": "code",
   "execution_count": 94,
   "id": "36e05855-8f8d-458a-aa07-859755b4ef26",
   "metadata": {},
   "outputs": [],
   "source": [
    "cnt = 0"
   ]
  },
  {
   "cell_type": "code",
   "execution_count": 96,
   "id": "830e9783-9f26-48ca-9d40-a7c6672b2b2a",
   "metadata": {},
   "outputs": [
    {
     "name": "stdout",
     "output_type": "stream",
     "text": [
      "출력: HELLO,HELLO,HELLO,HELLO,HELLO"
     ]
    }
   ],
   "source": [
    "print(\"출력: \", end = \"\")\n",
    "while cnt < value_len:\n",
    "    print(upper_value, end = \"\")\n",
    "    if cnt < value_len - 1:\n",
    "        print(end = \",\")\n",
    "    cnt += 1;"
   ]
  },
  {
   "cell_type": "code",
   "execution_count": null,
   "id": "e9e49e7a-97d6-43c6-b55a-579c1c7d6a4f",
   "metadata": {},
   "outputs": [],
   "source": []
  }
 ],
 "metadata": {
  "kernelspec": {
   "display_name": "Python 3 (ipykernel)",
   "language": "python",
   "name": "python3"
  },
  "language_info": {
   "codemirror_mode": {
    "name": "ipython",
    "version": 3
   },
   "file_extension": ".py",
   "mimetype": "text/x-python",
   "name": "python",
   "nbconvert_exporter": "python",
   "pygments_lexer": "ipython3",
   "version": "3.12.7"
  }
 },
 "nbformat": 4,
 "nbformat_minor": 5
}
